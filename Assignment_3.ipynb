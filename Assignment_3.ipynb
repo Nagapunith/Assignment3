{
  "nbformat": 4,
  "nbformat_minor": 0,
  "metadata": {
    "colab": {
      "name": "Assignment 3",
      "provenance": []
    },
    "kernelspec": {
      "name": "python3",
      "display_name": "Python 3"
    }
  },
  "cells": [
    {
      "cell_type": "code",
      "metadata": {
        "id": "nAbUbcykJ18D",
        "colab_type": "code",
        "colab": {
          "base_uri": "https://localhost:8080/",
          "height": 50
        },
        "outputId": "1f7f0fc0-4de4-4381-8000-a2f7cba590e8"
      },
      "source": [
        "Age=int(input(\"Enter the age\"))\n",
        "if(Age>18):\n",
        "  print(\"Eligible for voting\")\n",
        "else:\n",
        "  print(\"Not Eligible for voting\")\n"
      ],
      "execution_count": 2,
      "outputs": [
        {
          "output_type": "stream",
          "text": [
            "Enter the age19\n",
            "Eligible for voting\n"
          ],
          "name": "stdout"
        }
      ]
    },
    {
      "cell_type": "code",
      "metadata": {
        "id": "i0mDw6ENKlvG",
        "colab_type": "code",
        "colab": {
          "base_uri": "https://localhost:8080/",
          "height": 50
        },
        "outputId": "8f4e845b-8299-4a14-8e33-16c4b287b98b"
      },
      "source": [
        "num=int(input(\"Enter a number:\"))\n",
        "if(num%2==0):\n",
        "  print(\"Even number\")\n",
        "else:\n",
        "  print(\"odd number\")"
      ],
      "execution_count": 5,
      "outputs": [
        {
          "output_type": "stream",
          "text": [
            "Enter a number:9\n",
            "odd number\n"
          ],
          "name": "stdout"
        }
      ]
    },
    {
      "cell_type": "code",
      "metadata": {
        "id": "M45ecO9xLOZu",
        "colab_type": "code",
        "colab": {
          "base_uri": "https://localhost:8080/",
          "height": 50
        },
        "outputId": "cf2c028e-c5bb-4337-dbba-4ea95e84c998"
      },
      "source": [
        "num=int(input(\"enter a number\"))\n",
        "if(num>1):\n",
        "  for i in range(2,num):\n",
        "    if(num%i==0):\n",
        "      print(num,\"is not a prime number\")\n",
        "      break\n",
        "    else:\n",
        "      print(num,\"is a prime number\")"
      ],
      "execution_count": 8,
      "outputs": [
        {
          "output_type": "stream",
          "text": [
            "enter a number46\n",
            "46 is not a prime number\n"
          ],
          "name": "stdout"
        }
      ]
    },
    {
      "cell_type": "code",
      "metadata": {
        "id": "NsFEYzhcNJSP",
        "colab_type": "code",
        "colab": {
          "base_uri": "https://localhost:8080/",
          "height": 50
        },
        "outputId": "aa1d2d83-1713-432f-fbf6-26371d67c5ea"
      },
      "source": [
        "num=int(input())\n",
        "if(num<0):\n",
        "  print(num,\"is negative\")\n",
        "else:\n",
        "  print(num,\"is positive\")\n"
      ],
      "execution_count": 10,
      "outputs": [
        {
          "output_type": "stream",
          "text": [
            "1\n",
            "1 is positive\n"
          ],
          "name": "stdout"
        }
      ]
    },
    {
      "cell_type": "code",
      "metadata": {
        "id": "RlB6EzPzOB0y",
        "colab_type": "code",
        "colab": {
          "base_uri": "https://localhost:8080/",
          "height": 84
        },
        "outputId": "8ebce66e-2a0a-4369-b2b7-d4eb61737920"
      },
      "source": [
        "import math\n",
        "a = float(input(\"a: \"))\n",
        "b = float(input(\"b: \"))\n",
        "c = float(input(\"c: \"))\n",
        "\n",
        "discriminant = b**2 - 4 * a * c\n",
        "\n",
        "if discriminant >= 0:\n",
        "    x_1=(-b+math.sqrt(discriminant))/2*a\n",
        "    x_2=(-b-math.sqrt(discriminant))/2*a\n",
        "else:\n",
        "    x_1= complex((-b/(2*a)),math.sqrt(-discriminant)/(2*a))\n",
        "    x_2= complex((-b/(2*a)),-math.sqrt(-discriminant)/(2*a))\n",
        "\n",
        "if discriminant > 0:\n",
        "    print(\"The function has two distinct real roots: {} and {}\".format(x_1,x_2))\n",
        "elif discriminant == 0:\n",
        "    print(\"The function has one double root: \", x_1)\n",
        "else:\n",
        "    print(\"The function has two complex (conjugate) roots: {}  and {}\".format(x_1,x_2))"
      ],
      "execution_count": 13,
      "outputs": [
        {
          "output_type": "stream",
          "text": [
            "a: 1.2\n",
            "b: 2.3\n",
            "c: 3.4\n",
            "The function has two complex (conjugate) roots: (-0.9583333333333333+1.3838101587846348j)  and (-0.9583333333333333-1.3838101587846348j)\n"
          ],
          "name": "stdout"
        }
      ]
    },
    {
      "cell_type": "code",
      "metadata": {
        "id": "Ta5rnfQzO4KN",
        "colab_type": "code",
        "colab": {
          "base_uri": "https://localhost:8080/",
          "height": 50
        },
        "outputId": "3d833ccd-fb88-48a0-fc29-f92e7f76f2a2"
      },
      "source": [
        "a=int(input(\"Enter a number\"))\n",
        "if(a!=0):\n",
        "  if(a>0):\n",
        "    print(a,\"is a positive number\")\n",
        "  else:\n",
        "    print(a,\"is a negative number\")\n",
        "else:\n",
        "  print(a,\"is zero\")\n"
      ],
      "execution_count": 14,
      "outputs": [
        {
          "output_type": "stream",
          "text": [
            "Enter a number0\n",
            "0 is zero\n"
          ],
          "name": "stdout"
        }
      ]
    },
    {
      "cell_type": "code",
      "metadata": {
        "id": "gag7pdDPQHoV",
        "colab_type": "code",
        "colab": {
          "base_uri": "https://localhost:8080/",
          "height": 50
        },
        "outputId": "c6bcbbce-6601-4988-fc64-721ad8e5e84c"
      },
      "source": [
        "a=int(input(\"Enter a number from 1-5\"))\n",
        "if(a!=0):\n",
        "  if(a==1):\n",
        "    print(\"one\")\n",
        "  elif(a==2):\n",
        "    print(\"Two\")\n",
        "  elif(a==3):\n",
        "    print(\"Three\")\n",
        "  elif(a==4):\n",
        "    print(\"Four\")\n",
        "  elif(a==5):\n",
        "    print(\"Five\")\n",
        "else:\n",
        "  print(\"Invalid Number\")"
      ],
      "execution_count": 15,
      "outputs": [
        {
          "output_type": "stream",
          "text": [
            "Enter a number from 1-54\n",
            "Four\n"
          ],
          "name": "stdout"
        }
      ]
    },
    {
      "cell_type": "code",
      "metadata": {
        "id": "hrFXLmSMSJGP",
        "colab_type": "code",
        "colab": {}
      },
      "source": [
        ""
      ],
      "execution_count": null,
      "outputs": []
    },
    {
      "cell_type": "code",
      "metadata": {
        "id": "wGSoBsAxRLc7",
        "colab_type": "code",
        "colab": {
          "base_uri": "https://localhost:8080/",
          "height": 50
        },
        "outputId": "3bcf96da-edd7-4280-d63a-b6b9a8062c5a"
      },
      "source": [
        "ch = input(\"Please Enter Your Own Character : \")\n",
        "\n",
        "if(ch == 'a' or ch == 'e' or ch == 'i' or ch == 'o' or ch == 'u' ):\n",
        "    print(\"The Given Character \", ch, \"is a Vowel\")\n",
        "else:\n",
        "    print(\"The Given Character \", ch, \"is a Consonant\")\n"
      ],
      "execution_count": 21,
      "outputs": [
        {
          "output_type": "stream",
          "text": [
            "Please Enter Your Own Character : p\n",
            "The Given Character  p is a Consonant\n"
          ],
          "name": "stdout"
        }
      ]
    }
  ]
}